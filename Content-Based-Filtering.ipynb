{
 "cells": [
  {
   "cell_type": "markdown",
   "id": "c7d361aa-896e-4788-ac3d-3f96e6906144",
   "metadata": {},
   "source": [
    "# Packages"
   ]
  },
  {
   "cell_type": "code",
   "execution_count": 1,
   "id": "102d9368-0d35-4871-8278-c633bb4b9fee",
   "metadata": {},
   "outputs": [],
   "source": [
    "import pandas as pd\n",
    "from sklearn.feature_extraction.text import CountVectorizer\n",
    "import nltk\n",
    "from nltk.tokenize import word_tokenize\n",
    "from sklearn.metrics.pairwise import cosine_distances\n",
    "from sklearn.model_selection import train_test_split\n",
    "from sklearn.metrics import accuracy_score"
   ]
  },
  {
   "cell_type": "markdown",
   "id": "f4d7bee6-4fd9-4809-819b-a1f5d62cd84f",
   "metadata": {},
   "source": [
    "# Content = Business's Description"
   ]
  },
  {
   "cell_type": "code",
   "execution_count": 2,
   "id": "1fc351e0-28d5-40ed-a0ef-e5b15e48724b",
   "metadata": {},
   "outputs": [
    {
     "data": {
      "text/html": [
       "<div>\n",
       "<style scoped>\n",
       "    .dataframe tbody tr th:only-of-type {\n",
       "        vertical-align: middle;\n",
       "    }\n",
       "\n",
       "    .dataframe tbody tr th {\n",
       "        vertical-align: top;\n",
       "    }\n",
       "\n",
       "    .dataframe thead th {\n",
       "        text-align: right;\n",
       "    }\n",
       "</style>\n",
       "<table border=\"1\" class=\"dataframe\">\n",
       "  <thead>\n",
       "    <tr style=\"text-align: right;\">\n",
       "      <th></th>\n",
       "      <th>name</th>\n",
       "      <th>category</th>\n",
       "      <th>sub-category</th>\n",
       "      <th>about</th>\n",
       "      <th>metadata</th>\n",
       "    </tr>\n",
       "  </thead>\n",
       "  <tbody>\n",
       "    <tr>\n",
       "      <th>0</th>\n",
       "      <td>Asus Indonesia</td>\n",
       "      <td>Sponsor</td>\n",
       "      <td>Technology Hardware</td>\n",
       "      <td>ASUS is passionate about technology and driven...</td>\n",
       "      <td>Sponsor Technology Hardware ASUS is passionate...</td>\n",
       "    </tr>\n",
       "    <tr>\n",
       "      <th>1</th>\n",
       "      <td>Hydro Coco</td>\n",
       "      <td>Sponsor</td>\n",
       "      <td>Food &amp; Beverage</td>\n",
       "      <td>Tentang Hydro Coco\\r\\nHydro Coco terbuat dari ...</td>\n",
       "      <td>Sponsor Food &amp; Beverage Tentang Hydro Coco\\r\\n...</td>\n",
       "    </tr>\n",
       "    <tr>\n",
       "      <th>2</th>\n",
       "      <td>Nutrijell</td>\n",
       "      <td>Sponsor</td>\n",
       "      <td>Food &amp; Beverage</td>\n",
       "      <td>Nutrijell is a leading agar-agar brand in Indo...</td>\n",
       "      <td>Sponsor Food &amp; Beverage Nutrijell is a leading...</td>\n",
       "    </tr>\n",
       "    <tr>\n",
       "      <th>3</th>\n",
       "      <td>Zalora Indonesia</td>\n",
       "      <td>Sponsor</td>\n",
       "      <td>E-Commerce</td>\n",
       "      <td>Zalora Indonesia, the largest online fashion r...</td>\n",
       "      <td>Sponsor E-Commerce Zalora Indonesia, the large...</td>\n",
       "    </tr>\n",
       "    <tr>\n",
       "      <th>4</th>\n",
       "      <td>Marina</td>\n",
       "      <td>Sponsor</td>\n",
       "      <td>Personal &amp; Beauty</td>\n",
       "      <td>Marina Natural is a leading Indonesian cosmeti...</td>\n",
       "      <td>Sponsor Personal &amp; Beauty Marina Natural is a ...</td>\n",
       "    </tr>\n",
       "    <tr>\n",
       "      <th>...</th>\n",
       "      <td>...</td>\n",
       "      <td>...</td>\n",
       "      <td>...</td>\n",
       "      <td>...</td>\n",
       "      <td>...</td>\n",
       "    </tr>\n",
       "    <tr>\n",
       "      <th>857</th>\n",
       "      <td>photobooth wedding murah jabodetabek</td>\n",
       "      <td>Equipment Rental</td>\n",
       "      <td>Photobooth</td>\n",
       "      <td>photobooth wedding murah jabodetabek</td>\n",
       "      <td>Equipment Rental Photobooth photobooth wedding...</td>\n",
       "    </tr>\n",
       "    <tr>\n",
       "      <th>858</th>\n",
       "      <td>photo booth ulang tahun murah</td>\n",
       "      <td>Equipment Rental</td>\n",
       "      <td>Photobooth</td>\n",
       "      <td>photo booth ulang tahun murah</td>\n",
       "      <td>Equipment Rental Photobooth photo booth ulang ...</td>\n",
       "    </tr>\n",
       "    <tr>\n",
       "      <th>859</th>\n",
       "      <td>MobileTrans - Wa Transfer dan Line Transfer Or...</td>\n",
       "      <td>Equipment Rental</td>\n",
       "      <td>Photobooth</td>\n",
       "      <td>MobileTrans - Wa Transfer dan Line Transfer Or...</td>\n",
       "      <td>Equipment Rental Photobooth MobileTrans - Wa T...</td>\n",
       "    </tr>\n",
       "    <tr>\n",
       "      <th>860</th>\n",
       "      <td>SEWA WIFI JEPANG | JAPAN WIFI | SEWA JAPAN WIFI</td>\n",
       "      <td>Equipment Rental</td>\n",
       "      <td>Photobooth</td>\n",
       "      <td>SEWA WIFI JEPANG | JAPAN WIFI | SEWA JAPAN WIFI</td>\n",
       "      <td>Equipment Rental Photobooth SEWA WIFI JEPANG |...</td>\n",
       "    </tr>\n",
       "    <tr>\n",
       "      <th>861</th>\n",
       "      <td>drfone Whatsapp Transfer Original [KHUSUS MAC]...</td>\n",
       "      <td>Equipment Rental</td>\n",
       "      <td>Photobooth</td>\n",
       "      <td>drfone Whatsapp Transfer Original [KHUSUS MAC]...</td>\n",
       "      <td>Equipment Rental Photobooth drfone Whatsapp Tr...</td>\n",
       "    </tr>\n",
       "  </tbody>\n",
       "</table>\n",
       "<p>862 rows × 5 columns</p>\n",
       "</div>"
      ],
      "text/plain": [
       "                                                  name          category  \\\n",
       "0                                       Asus Indonesia           Sponsor   \n",
       "1                                           Hydro Coco           Sponsor   \n",
       "2                                            Nutrijell           Sponsor   \n",
       "3                                     Zalora Indonesia           Sponsor   \n",
       "4                                               Marina           Sponsor   \n",
       "..                                                 ...               ...   \n",
       "857               photobooth wedding murah jabodetabek  Equipment Rental   \n",
       "858                      photo booth ulang tahun murah  Equipment Rental   \n",
       "859  MobileTrans - Wa Transfer dan Line Transfer Or...  Equipment Rental   \n",
       "860    SEWA WIFI JEPANG | JAPAN WIFI | SEWA JAPAN WIFI  Equipment Rental   \n",
       "861  drfone Whatsapp Transfer Original [KHUSUS MAC]...  Equipment Rental   \n",
       "\n",
       "            sub-category                                              about  \\\n",
       "0    Technology Hardware  ASUS is passionate about technology and driven...   \n",
       "1        Food & Beverage  Tentang Hydro Coco\\r\\nHydro Coco terbuat dari ...   \n",
       "2        Food & Beverage  Nutrijell is a leading agar-agar brand in Indo...   \n",
       "3             E-Commerce  Zalora Indonesia, the largest online fashion r...   \n",
       "4      Personal & Beauty  Marina Natural is a leading Indonesian cosmeti...   \n",
       "..                   ...                                                ...   \n",
       "857           Photobooth               photobooth wedding murah jabodetabek   \n",
       "858           Photobooth                      photo booth ulang tahun murah   \n",
       "859           Photobooth  MobileTrans - Wa Transfer dan Line Transfer Or...   \n",
       "860           Photobooth    SEWA WIFI JEPANG | JAPAN WIFI | SEWA JAPAN WIFI   \n",
       "861           Photobooth  drfone Whatsapp Transfer Original [KHUSUS MAC]...   \n",
       "\n",
       "                                              metadata  \n",
       "0    Sponsor Technology Hardware ASUS is passionate...  \n",
       "1    Sponsor Food & Beverage Tentang Hydro Coco\\r\\n...  \n",
       "2    Sponsor Food & Beverage Nutrijell is a leading...  \n",
       "3    Sponsor E-Commerce Zalora Indonesia, the large...  \n",
       "4    Sponsor Personal & Beauty Marina Natural is a ...  \n",
       "..                                                 ...  \n",
       "857  Equipment Rental Photobooth photobooth wedding...  \n",
       "858  Equipment Rental Photobooth photo booth ulang ...  \n",
       "859  Equipment Rental Photobooth MobileTrans - Wa T...  \n",
       "860  Equipment Rental Photobooth SEWA WIFI JEPANG |...  \n",
       "861  Equipment Rental Photobooth drfone Whatsapp Tr...  \n",
       "\n",
       "[862 rows x 5 columns]"
      ]
     },
     "execution_count": 2,
     "metadata": {},
     "output_type": "execute_result"
    }
   ],
   "source": [
    "df = pd.read_csv(\"data/sponsors.csv\")\n",
    "df"
   ]
  },
  {
   "cell_type": "markdown",
   "id": "53765ef0-da40-4ec6-8ac6-e7cbdb7c7e02",
   "metadata": {},
   "source": [
    "# Encode All About to a Bank"
   ]
  },
  {
   "cell_type": "code",
   "execution_count": null,
   "id": "17c7fa6b-007a-43e8-ae54-25ca0e1383d3",
   "metadata": {},
   "outputs": [],
   "source": [
    "nltk.download('punkt')"
   ]
  },
  {
   "cell_type": "code",
   "execution_count": null,
   "id": "540ced8c-24a2-4756-8404-1afcf139306f",
   "metadata": {},
   "outputs": [],
   "source": [
    "bow = CountVectorizer(stop_words=\"english\", min_df=1, tokenizer=word_tokenize)\n",
    "bank = bow.fit_transform(df.metadata)"
   ]
  },
  {
   "cell_type": "markdown",
   "id": "d1a0b946-e5af-4e2d-a84a-1549ff02739f",
   "metadata": {},
   "source": [
    "## Step 1: Encode What User Click"
   ]
  },
  {
   "cell_type": "code",
   "execution_count": null,
   "id": "e1a8a117-6a09-4431-9ece-7eaac51a3f18",
   "metadata": {},
   "outputs": [],
   "source": [
    "idx = 52"
   ]
  },
  {
   "cell_type": "code",
   "execution_count": null,
   "id": "c61e6852-49a7-4db7-990c-e5209ff8bfba",
   "metadata": {},
   "outputs": [],
   "source": [
    "content = df.loc[idx, \"metadata\"]\n",
    "content"
   ]
  },
  {
   "cell_type": "code",
   "execution_count": null,
   "id": "6fa61d80-b179-468e-87fd-37a64bc91836",
   "metadata": {},
   "outputs": [],
   "source": [
    "code = bow.transform([content])\n",
    "code.toarray()"
   ]
  },
  {
   "cell_type": "markdown",
   "id": "3628fd80-ef35-4b5a-9df1-054babe7e091",
   "metadata": {},
   "source": [
    "## Step 2: Document Search"
   ]
  },
  {
   "cell_type": "code",
   "execution_count": null,
   "id": "9ebbedca-e6a3-434d-a95c-c1e1c810771e",
   "metadata": {},
   "outputs": [],
   "source": [
    "dist = cosine_distances(code, bank)\n",
    "dist"
   ]
  },
  {
   "cell_type": "code",
   "execution_count": null,
   "id": "5b33c504-5ab2-480b-9924-3fce2ddf2478",
   "metadata": {},
   "outputs": [],
   "source": [
    "rec_idx = dist.argsort()[0, 1:11]\n",
    "rec_idx"
   ]
  },
  {
   "cell_type": "markdown",
   "id": "69d5489d-e245-48dd-a869-5b99c6ccd309",
   "metadata": {},
   "source": [
    "## Step 3: Recommend"
   ]
  },
  {
   "cell_type": "code",
   "execution_count": null,
   "id": "a1a8d2fb-fed3-40e2-adb6-bedf5118e5af",
   "metadata": {},
   "outputs": [],
   "source": [
    "df.loc[rec_idx]"
   ]
  },
  {
   "cell_type": "markdown",
   "id": "3eb98c27-6a58-4cec-b1c9-ff3cc9057934",
   "metadata": {},
   "source": [
    "# ML Engineering: Sum Them All Up"
   ]
  },
  {
   "cell_type": "code",
   "execution_count": 37,
   "id": "f9f021eb-7c3d-449c-adce-d7f3cac51e3f",
   "metadata": {},
   "outputs": [],
   "source": [
    "class RecommenderSystem:\n",
    "    def __init__(self, data, content_col):\n",
    "        self.df = pd.read_csv(data)\n",
    "        self.content_col = content_col\n",
    "        self.encoder = None\n",
    "        self.bank = None\n",
    "        self.test_set = None\n",
    "\n",
    "    def split_data(self, test_size=0.2, random_state=42):\n",
    "        train_data, test_data = train_test_split(self.df, test_size=test_size, random_state=random_state)\n",
    "        self.train_data = train_data.reset_index(drop=True)\n",
    "        self.test_data = test_data.reset_index(drop=True)\n",
    "        self.test_set = test_data.index\n",
    "\n",
    "    def fit(self):\n",
    "        self.encoder = CountVectorizer(stop_words=\"english\", tokenizer=word_tokenize)\n",
    "        self.bank = self.encoder.fit_transform(self.train_data[self.content_col])\n",
    "\n",
    "    def recommend(self, idx, topk=10):\n",
    "        content = self.df.loc[idx, self.content_col]\n",
    "        code = self.encoder.transform([content])\n",
    "        dist = cosine_distances(code, self.bank)\n",
    "        rec_idx = dist.argsort()[0, 1:(topk+1)]\n",
    "        return self.df.loc[rec_idx]\n",
    "\n",
    "    def evaluate(self):\n",
    "        if self.test_set is None:\n",
    "            print(\"Split the data first using split_data method.\")\n",
    "            return\n",
    "    \n",
    "        predictions = []\n",
    "        for idx in self.test_set:\n",
    "            recommendations = self.recommend(idx)\n",
    "            predictions.append(recommendations.index.tolist())\n",
    "    \n",
    "        true_labels = [idx for _ in self.test_set for idx in predictions[0]]\n",
    "        flat_predictions = [item for sublist in predictions for item in sublist]\n",
    "        accuracy = accuracy_score(true_labels, flat_predictions)\n",
    "        print(f\"Accuracy: {accuracy * 100:.2f}%\")"
   ]
  },
  {
   "cell_type": "code",
   "execution_count": 38,
   "id": "5c97d85c-587a-4922-8577-fea005a02eba",
   "metadata": {},
   "outputs": [],
   "source": [
    "recsys = RecommenderSystem(\"data/sponsors.csv\", content_col=\"metadata\")"
   ]
  },
  {
   "cell_type": "code",
   "execution_count": 39,
   "id": "43513d8a-868c-4e1b-b9ae-1492b28556f8",
   "metadata": {},
   "outputs": [],
   "source": [
    "recsys.split_data(test_size=0.2, random_state=42)"
   ]
  },
  {
   "cell_type": "code",
   "execution_count": 40,
   "id": "7a7d6c03-9efb-4ad3-a15f-7ce223258c50",
   "metadata": {},
   "outputs": [],
   "source": [
    "recsys.fit()"
   ]
  },
  {
   "cell_type": "code",
   "execution_count": 41,
   "id": "2ae07f31-8c98-4693-abc1-16f3ce3c8f9d",
   "metadata": {},
   "outputs": [
    {
     "name": "stdout",
     "output_type": "stream",
     "text": [
      "Accuracy: 0.81%\n"
     ]
    }
   ],
   "source": [
    "recsys.evaluate()"
   ]
  },
  {
   "cell_type": "code",
   "execution_count": null,
   "id": "3c020f5f-e07b-4f17-815a-6f3bd6ecccee",
   "metadata": {},
   "outputs": [],
   "source": []
  },
  {
   "cell_type": "code",
   "execution_count": null,
   "id": "1fc14a1a-1abd-48f6-ad54-8d0eb1c77c5b",
   "metadata": {},
   "outputs": [],
   "source": []
  }
 ],
 "metadata": {
  "kernelspec": {
   "display_name": "Python [conda env:jcopml]",
   "language": "python",
   "name": "conda-env-jcopml-py"
  },
  "language_info": {
   "codemirror_mode": {
    "name": "ipython",
    "version": 3
   },
   "file_extension": ".py",
   "mimetype": "text/x-python",
   "name": "python",
   "nbconvert_exporter": "python",
   "pygments_lexer": "ipython3",
   "version": "3.9.18"
  }
 },
 "nbformat": 4,
 "nbformat_minor": 5
}
